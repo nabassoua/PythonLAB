{
 "cells": [
  {
   "cell_type": "code",
   "execution_count": 1,
   "id": "68918360-b1e5-4730-bd76-a52286a99d5a",
   "metadata": {},
   "outputs": [],
   "source": [
    "def test(x,y):\n",
    "    return (x+y)"
   ]
  }
 ],
 "metadata": {
  "kernelspec": {
   "display_name": "Python 3 (ipykernel)",
   "language": "python",
   "name": "python3"
  },
  "language_info": {
   "codemirror_mode": {
    "name": "ipython",
    "version": 3
   },
   "file_extension": ".py",
   "mimetype": "text/x-python",
   "name": "python",
   "nbconvert_exporter": "python",
   "pygments_lexer": "ipython3",
   "version": "3.11.7"
  }
 },
 "nbformat": 4,
 "nbformat_minor": 5
}
